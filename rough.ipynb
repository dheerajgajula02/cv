{
 "cells": [
  {
   "cell_type": "code",
   "execution_count": 1,
   "metadata": {
    "collapsed": false,
    "jupyter": {
     "outputs_hidden": false
    },
    "pycharm": {
     "name": "#%%\n"
    }
   },
   "outputs": [],
   "source": [
    "import numpy as np \n",
    "import cv2\n"
   ]
  },
  {
   "cell_type": "code",
   "execution_count": 8,
   "metadata": {
    "collapsed": false,
    "jupyter": {
     "outputs_hidden": false
    },
    "pycharm": {
     "name": "#%%\n"
    }
   },
   "outputs": [],
   "source": [
    "#3 parts\n",
    "\n",
    "\n",
    "#function:\n",
    "\n",
    "def draw_circle(event, x,y, flags, params):\n",
    "    \n",
    "    if event == cv2.EVENT_LBUTTONDOWN:\n",
    "        cv2.circle(img, (x,y), 100, (0,255,0), -1)\n",
    "    elif event == cv2.EVENT_RBUTTONDOWN:\n",
    "        cv2.circle(img, (x,y), 100, (255, 0,0), -1)\n",
    "\n",
    "cv2.namedWindow(winname= \"my_drawing\")\n",
    "cv2.setMouseCallback('my_drawing', draw_circle)\n",
    "\n",
    "\n",
    "#showing image:\n",
    "\n",
    "img = np.zeros((512,512,3))\n",
    "\n",
    "while True:\n",
    "    cv2.imshow(\"my_drawing\", img)\n",
    "    \n",
    "    if cv2.waitKey(20) & 0xFF==27:\n",
    "        break\n",
    "        \n",
    "cv2.destroyAllWindows()\n",
    "    \n",
    "\n",
    "\n",
    "\n"
   ]
  },
  {
   "cell_type": "markdown",
   "metadata": {
    "jupyter": {
     "outputs_hidden": false
    },
    "pycharm": {
     "name": "#%%\n"
    }
   },
   "source": [
    "### type2"
   ]
  },
  {
   "cell_type": "markdown",
   "metadata": {},
   "source": [
    "using global variable means you are accessing the variable that is defined outside the function in the function"
   ]
  },
  {
   "cell_type": "code",
   "execution_count": 13,
   "metadata": {},
   "outputs": [],
   "source": [
    "\n",
    "#variables \n",
    "\n",
    "drawing = False\n",
    "ix,iy=-1,-1\n",
    "c=-1\n",
    "\n",
    "\n",
    "#function\n",
    "\n",
    "def draw_rect(event, x,y,flags,params):\n",
    "    global drawing, ix, iy,c\n",
    "    \n",
    "    if event == cv2.EVENT_LBUTTONDOWN:\n",
    "        c=1\n",
    "        drawing= True\n",
    "        ix,iy=x,y\n",
    "    if event == cv2.EVENT_RBUTTONDOWN:\n",
    "        c=2\n",
    "        drawing = True\n",
    "        ix,iy=x,y\n",
    "        \n",
    "    elif event == cv2.EVENT_MOUSEMOVE:\n",
    "        if drawing and c==1:\n",
    "            cv2.rectangle(img, (ix,iy), (x,y), color=(255,0,0), thickness =-1)\n",
    "        elif drawing and c==2:\n",
    "            cv2.rectangle(img, (ix,iy), (x,y), color=(0,255,0), thickness =-1)\n",
    "\n",
    "            \n",
    "    elif event == cv2.EVENT_LBUTTONUP:\n",
    "        drawing = False\n",
    "        drawing == cv2.rectangle(img, (ix,iy), (x,y), color=(255,0,0),thickness=-1)\n",
    "    elif event == cv2.EVENT_RBUTTONUP:\n",
    "        drawing = False\n",
    "        cv2.rectangle(img, (ix,iy), (x,y), color=(0,255,0), thickness =-1)\n",
    "\n",
    "    \n",
    "\n",
    "\n",
    "#connction\n",
    "cv2.namedWindow(winname=\"my_drawing\")\n",
    "cv2.setMouseCallback(\"my_drawing\", draw_rect)\n",
    "\n",
    "#showing img\n",
    "\n",
    "img = np.zeros((512,512,3))\n",
    "\n",
    "while True:\n",
    "    cv2.imshow(\"my_drawing\", img)\n",
    "    \n",
    "    if cv2.waitKey(20) & 0xFF == 27:\n",
    "        break\n",
    "cv2.destroyAllWindows()\n",
    "\n",
    "\n",
    "\n"
   ]
  },
  {
   "cell_type": "code",
   "execution_count": null,
   "metadata": {},
   "outputs": [],
   "source": []
  },
  {
   "cell_type": "code",
   "execution_count": null,
   "metadata": {},
   "outputs": [],
   "source": []
  }
 ],
 "metadata": {
  "kernelspec": {
   "display_name": "Python 3 (ipykernel)",
   "language": "python",
   "name": "python3"
  },
  "language_info": {
   "codemirror_mode": {
    "name": "ipython",
    "version": 3
   },
   "file_extension": ".py",
   "mimetype": "text/x-python",
   "name": "python",
   "nbconvert_exporter": "python",
   "pygments_lexer": "ipython3",
   "version": "3.9.7"
  },
  "widgets": {
   "application/vnd.jupyter.widget-state+json": {
    "state": {},
    "version_major": 2,
    "version_minor": 0
   }
  }
 },
 "nbformat": 4,
 "nbformat_minor": 4
}
