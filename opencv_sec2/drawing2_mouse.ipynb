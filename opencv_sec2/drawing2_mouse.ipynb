{
 "cells": [
  {
   "cell_type": "code",
   "execution_count": 4,
   "id": "6a0c24db-ffec-4fc9-9a67-030d668ab303",
   "metadata": {},
   "outputs": [],
   "source": [
    "import cv2 \n",
    "import numpy as np\n",
    "\n",
    "\n",
    "#function\n",
    "\n",
    "def draw_circle(event, x,y, flags, param):\n",
    "    if event == cv2.EVENT_LBUTTONDOWN:\n",
    "        cv2.circle(img,(x,y), 100, (0,255,0), -1)\n",
    "\n",
    "cv2.namedWindow(winname=\"my_drawing\")\n",
    "\n",
    "cv2.setMouseCallback(\"my_drawing\", draw_circle)\n",
    "\n",
    "\n",
    "\n",
    "\n",
    "#showing the preview\n",
    "\n",
    "img = np.zeros((512,512,3))\n",
    "\n",
    "while True:\n",
    "    cv2.imshow(\"my_drawing\", img)\n",
    "    \n",
    "    if cv2.waitKey(20) & 0xFF==27:\n",
    "        break\n",
    "        \n",
    "cv2.destroyAllWindows()\n",
    "\n"
   ]
  },
  {
   "cell_type": "markdown",
   "id": "f62ed843-f836-4b38-8ea2-6921d8b7a6e2",
   "metadata": {},
   "source": [
    "part 2"
   ]
  },
  {
   "cell_type": "code",
   "execution_count": 6,
   "id": "740254a8-4f09-4c38-b8fb-1d130e2dbc6d",
   "metadata": {},
   "outputs": [],
   "source": [
    "import cv2 \n",
    "import numpy as np\n",
    "\n",
    "\n",
    "#function\n",
    "\n",
    "def draw_circle(event, x,y, flags, param):\n",
    "    if event == cv2.EVENT_LBUTTONDOWN:\n",
    "        cv2.circle(img,(x,y), 100, (0,255,0), -1)\n",
    "    elif event == cv2.EVENT_RBUTTONDOWN:\n",
    "        cv2.circle(img,(x,y), 100, (0,0,255), -1)\n",
    "\n",
    "        \n",
    "\n",
    "cv2.namedWindow(winname=\"my_drawing\")\n",
    "\n",
    "cv2.setMouseCallback(\"my_drawing\", draw_circle)\n",
    "\n",
    "\n",
    "\n",
    "\n",
    "#showing the preview\n",
    "\n",
    "img = np.zeros((512,512,3))\n",
    "\n",
    "while True:\n",
    "    cv2.imshow(\"my_drawing\", img)\n",
    "    \n",
    "    if cv2.waitKey(20) & 0xFF==27:\n",
    "        break\n",
    "        \n",
    "cv2.destroyAllWindows()\n",
    "\n"
   ]
  },
  {
   "cell_type": "markdown",
   "id": "dd18246a-0e98-471d-b0f1-0568928f4ac4",
   "metadata": {},
   "source": [
    "##### part3"
   ]
  },
  {
   "cell_type": "code",
   "execution_count": 1,
   "id": "b4c038d2-0c7d-472d-be7b-fd2267aa7e34",
   "metadata": {},
   "outputs": [],
   "source": [
    "import cv2 \n",
    "import numpy as np\n",
    "\n",
    "#variables\n",
    "drawing = False\n",
    "ix,iy = -1,-1\n",
    "\n",
    "\n",
    "#function\n",
    "def draw_rectangle(event, x,y,flags, params):\n",
    "    \n",
    "    global drawing, ix,iy\n",
    "    \n",
    "    if event == cv2.EVENT_LBUTTONDOWN:\n",
    "        drawing = True\n",
    "        ix,iy=x,y\n",
    "    elif event == cv2.EVENT_MOUSEMOVE:\n",
    "        if drawing :\n",
    "            cv2.rectangle(img, (ix,iy), (x,y), color=(110,200,25), thickness =-1)\n",
    "        \n",
    "    elif event == cv2.EVENT_LBUTTONUP:\n",
    "        drawing = False\n",
    "        cv2.rectangle(img, (ix,iy), (x,y), color=(110,200,25), thickness =-1)\n",
    "\n",
    "\n",
    "\n",
    "\n",
    "\n",
    "\n",
    "#showing img\n",
    "\n",
    "img = np.zeros((512,512,3))\n",
    "\n",
    "cv2.namedWindow(winname='my_drawing')\n",
    "\n",
    "cv2.setMouseCallback('my_drawing', draw_rectangle)\n",
    "\n",
    "\n",
    "while True:\n",
    "    cv2.imshow(\"my_drawing\", img)\n",
    "    \n",
    "    if cv2.waitKey(20) & 0xFF ==27:\n",
    "        break\n",
    "        \n",
    "cv2.destroyAllWindows()\n",
    "\n",
    "\n",
    "\n",
    "\n",
    "\n"
   ]
  },
  {
   "cell_type": "code",
   "execution_count": null,
   "id": "c9510c65-7d12-4e8b-a70b-a6a26ab3523d",
   "metadata": {},
   "outputs": [],
   "source": []
  },
  {
   "cell_type": "code",
   "execution_count": null,
   "id": "fd73632a-0274-4d33-a929-8d10d971b5ba",
   "metadata": {},
   "outputs": [],
   "source": []
  }
 ],
 "metadata": {
  "kernelspec": {
   "display_name": "Python 3 (ipykernel)",
   "language": "python",
   "name": "python3"
  },
  "language_info": {
   "codemirror_mode": {
    "name": "ipython",
    "version": 3
   },
   "file_extension": ".py",
   "mimetype": "text/x-python",
   "name": "python",
   "nbconvert_exporter": "python",
   "pygments_lexer": "ipython3",
   "version": "3.9.7"
  },
  "widgets": {
   "application/vnd.jupyter.widget-state+json": {
    "state": {},
    "version_major": 2,
    "version_minor": 0
   }
  }
 },
 "nbformat": 4,
 "nbformat_minor": 5
}
