{
 "cells": [
  {
   "cell_type": "code",
   "execution_count": 2,
   "id": "f6eb4334-1bdf-45e8-bc7b-474e03c08d8e",
   "metadata": {},
   "outputs": [
    {
     "data": {
      "text/plain": [
       "-1"
      ]
     },
     "execution_count": 2,
     "metadata": {},
     "output_type": "execute_result"
    }
   ],
   "source": [
    "import cv2\n",
    "\n",
    "img = cv2.imread(\"../DATA/00-puppy.jpg\")\n",
    "\n",
    "cv2.imshow(\"puppy\", img)\n",
    "\n",
    "cv2.waitKey()"
   ]
  },
  {
   "cell_type": "markdown",
   "id": "dc907fd0-362c-4aed-b6d0-ea162155dd3b",
   "metadata": {},
   "source": [
    "#### usually in mac or linux ( cli) based os are very prone to crash if we use this method"
   ]
  },
  {
   "cell_type": "code",
   "execution_count": 3,
   "id": "67dade46-ba77-4c02-a574-9f0c20791147",
   "metadata": {},
   "outputs": [],
   "source": [
    "## see the python script file in the same folder"
   ]
  },
  {
   "cell_type": "code",
   "execution_count": null,
   "id": "75a8d849-0f5d-4256-8505-74a90221fca7",
   "metadata": {},
   "outputs": [],
   "source": []
  }
 ],
 "metadata": {
  "kernelspec": {
   "display_name": "Python 3 (ipykernel)",
   "language": "python",
   "name": "python3"
  },
  "language_info": {
   "codemirror_mode": {
    "name": "ipython",
    "version": 3
   },
   "file_extension": ".py",
   "mimetype": "text/x-python",
   "name": "python",
   "nbconvert_exporter": "python",
   "pygments_lexer": "ipython3",
   "version": "3.9.7"
  },
  "widgets": {
   "application/vnd.jupyter.widget-state+json": {
    "state": {},
    "version_major": 2,
    "version_minor": 0
   }
  }
 },
 "nbformat": 4,
 "nbformat_minor": 5
}
