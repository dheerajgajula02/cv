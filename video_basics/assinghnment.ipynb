{
 "cells": [
  {
   "cell_type": "code",
   "execution_count": 6,
   "id": "4505035c-fe2d-432e-ad93-7258af775866",
   "metadata": {},
   "outputs": [],
   "source": [
    "import cv2\n",
    "import numpy as np\n",
    "import matplotlib.pyplot as plt\n",
    "%matplotlib inline"
   ]
  },
  {
   "cell_type": "code",
   "execution_count": 11,
   "id": "6cd1ba48-1e15-44d3-8469-60795cfd562e",
   "metadata": {},
   "outputs": [],
   "source": [
    "cap = cv2.VideoCapture(0)\n",
    "\n",
    "def draw_circle (event, x,y, flags, params):\n",
    "    global pt1, click\n",
    "    \n",
    "    if event == cv2.EVENT_LBUTTONDOWN:\n",
    "        click = True\n",
    "        pt1=(x,y)\n",
    "    # elif event == cv2.EVENT_LBUTTONUP and click:\n",
    "    #     click = False\n",
    "    #     pt1=(0,0)\n",
    "\n",
    "\n",
    "\n",
    "#global variables\n",
    "pt1=(0,0)\n",
    "click = False\n",
    "\n",
    "cap = cv2.VideoCapture(0)\n",
    "cv2.namedWindow('screen')\n",
    "cv2.setMouseCallback('screen', draw_circle)\n",
    "\n",
    "while True:\n",
    "    \n",
    "    ret, frame= cap.read()\n",
    "    \n",
    "    if click:\n",
    "        cv2.circle(frame, center=pt1, radius = 100, color=(0,0,255), thickness=3)\n",
    "        \n",
    "    cv2.imshow('screen', frame)\n",
    "    \n",
    "    if cv2.waitKey(10) & 0xFF==ord('q'):\n",
    "        break\n",
    "        \n",
    "cap.release()\n",
    "cv2.destroyAllWindows()\n",
    "\n"
   ]
  },
  {
   "cell_type": "code",
   "execution_count": null,
   "id": "88f9e311-89c8-47a9-b30c-b00b10bd4aff",
   "metadata": {},
   "outputs": [],
   "source": []
  }
 ],
 "metadata": {
  "kernelspec": {
   "display_name": "Python 3 (ipykernel)",
   "language": "python",
   "name": "python3"
  },
  "language_info": {
   "codemirror_mode": {
    "name": "ipython",
    "version": 3
   },
   "file_extension": ".py",
   "mimetype": "text/x-python",
   "name": "python",
   "nbconvert_exporter": "python",
   "pygments_lexer": "ipython3",
   "version": "3.9.7"
  },
  "widgets": {
   "application/vnd.jupyter.widget-state+json": {
    "state": {},
    "version_major": 2,
    "version_minor": 0
   }
  }
 },
 "nbformat": 4,
 "nbformat_minor": 5
}
