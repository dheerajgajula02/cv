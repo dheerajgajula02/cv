{
 "cells": [
  {
   "cell_type": "code",
   "execution_count": 1,
   "id": "625a803c-73f8-4a17-a513-8d2047d0fb38",
   "metadata": {},
   "outputs": [],
   "source": [
    "import cv2\n",
    "cap= cv2.VideoCapture(0)\n",
    "\n",
    "width = int(cap.get(cv2.CAP_PROP_FRAME_WIDTH))\n",
    "height = int(cap.get(cv2.CAP_PROP_FRAME_HEIGHT))\n",
    "\n",
    "while True:\n",
    "    \n",
    "    ret,frame= cap.read()\n",
    "    gray = cv2.cvtColor(frame, cv2.COLOR_BGR2GRAY)\n",
    "    cv2.imshow('frame', gray)\n",
    "    \n",
    "    if cv2.waitKey(1) & 0xFF == ord('q'):\n",
    "        break\n",
    "\n",
    "cap.release()\n",
    "cv2.destroyAllWindows()\n"
   ]
  },
  {
   "cell_type": "markdown",
   "id": "57770c9b-a9d5-45f2-b66f-6bd3d440444f",
   "metadata": {},
   "source": [
    "if  you wanna read normal image not the gray scale image then "
   ]
  },
  {
   "cell_type": "code",
   "execution_count": 2,
   "id": "9ff7f941-c3a2-48e7-b9af-9bfcbf483a74",
   "metadata": {},
   "outputs": [],
   "source": [
    "import cv2\n",
    "cap= cv2.VideoCapture(0)\n",
    "\n",
    "width = int(cap.get(cv2.CAP_PROP_FRAME_WIDTH))\n",
    "height = int(cap.get(cv2.CAP_PROP_FRAME_HEIGHT))\n",
    "\n",
    "\n",
    "while True:\n",
    "    \n",
    "    ret,frame= cap.read()\n",
    "    #gray = cv2.cvtColor(frame, cv2.COLOR_BGR2GRAY)\n",
    "    cv2.imshow('frame', frame)\n",
    "    #now it wont convert to gray scale it will show exactly what frame is showing\n",
    "    \n",
    "    if cv2.waitKey(1) & 0xFF == ord('q'):\n",
    "        break\n",
    "\n",
    "cap.release()\n",
    "cv2.destroyAllWindows()\n"
   ]
  },
  {
   "cell_type": "markdown",
   "id": "d1a9dc80-0588-42fe-969a-40ac75d24893",
   "metadata": {},
   "source": [
    "if you wanna save the video then do the following"
   ]
  },
  {
   "cell_type": "code",
   "execution_count": 3,
   "id": "06d45c2f-8b22-4c64-b774-d3e30187b809",
   "metadata": {},
   "outputs": [
    {
     "data": {
      "text/plain": [
       "'C:\\\\Users\\\\dheer\\\\Downloads\\\\open_cv_jose\\\\video_basics'"
      ]
     },
     "execution_count": 3,
     "metadata": {},
     "output_type": "execute_result"
    }
   ],
   "source": [
    "import cv2\n",
    "cap= cv2.VideoCapture(0)\n",
    "\n",
    "width = int(cap.get(cv2.CAP_PROP_FRAME_WIDTH))\n",
    "height = int(cap.get(cv2.CAP_PROP_FRAME_HEIGHT))\n",
    "\n",
    "\n",
    "\n",
    "\n",
    "while True:\n",
    "    \n",
    "    ret,frame= cap.read()\n",
    "    #gray = cv2.cvtColor(frame, cv2.COLOR_BGR2GRAY)\n",
    "    cv2.imshow('frame', frame)\n",
    "    #now it wont convert to gray scale it will show exactly what frame is showing\n",
    "    \n",
    "    if cv2.waitKey(1) & 0xFF == ord('q'):\n",
    "        break\n",
    "\n",
    "cap.release()\n",
    "cv2.destroyAllWindows()\n"
   ]
  },
  {
   "cell_type": "code",
   "execution_count": 4,
   "id": "2edb1eb2-1fd2-4403-bed1-dca1bae3e0ed",
   "metadata": {},
   "outputs": [],
   "source": [
    "import cv2\n",
    "cap= cv2.VideoCapture(0)\n",
    "\n",
    "width = int(cap.get(cv2.CAP_PROP_FRAME_WIDTH))\n",
    "height = int(cap.get(cv2.CAP_PROP_FRAME_HEIGHT))\n",
    "\n",
    "frames = int(cap.get(cv2.CAP_PROP_FRAME_COUNT))\n",
    "\n",
    "#windows *'DVIX'\n",
    "# mac/linux = *'XVID'\n",
    "\n",
    "video_writer = cv2.VideoWriter('myrandomvideo.mp4', cv2.VideoWriter_fourcc(*'DVIX'), 20, (width,height))\n",
    "\n",
    "while True:\n",
    "    \n",
    "    ret,frame= cap.read()\n",
    "   # here you will do what ever operations that you need \n",
    "    #but now we need to just save the file \n",
    "    video_writer.write(frame)\n",
    "    \n",
    "    cv2.imshow('frame', frame)\n",
    "    #now it wont convert to gray scale it will show exactly what frame is showing\n",
    "    \n",
    "    if cv2.waitKey(1) & 0xFF == ord('q'):\n",
    "        break\n",
    "\n",
    "cap.release()\n",
    "video_writer.release()\n",
    "cv2.destroyAllWindows()\n"
   ]
  },
  {
   "cell_type": "markdown",
   "id": "cb0283a1-9054-460c-a09e-dee501c4cc82",
   "metadata": {},
   "source": [
    "this is reading file from existing directory"
   ]
  },
  {
   "cell_type": "code",
   "execution_count": 9,
   "id": "047c26cb-8879-465a-b980-3c7be85000eb",
   "metadata": {},
   "outputs": [],
   "source": [
    "cap = cv2.VideoCapture('myrandomvideo.mp4')\n",
    "\n",
    "if cap.isOpened()== False:\n",
    "    print(\"ERROR_ FILE NOT FOUND OR CODEC NOT CORRECT\")\n",
    "\n",
    "while cap.isOpened():\n",
    "    ret, frame= cap.read()\n",
    "    \n",
    "    if ret == True:\n",
    "        cv2.imshow('frame', frame)\n",
    "        \n",
    "        if cv2.waitKey(10) & 0xFF == ord('q'):\n",
    "            break\n",
    "    else:\n",
    "        break\n",
    "        \n",
    "cap.release()\n",
    "cv2.destroyAllWindows()\n",
    "                \n"
   ]
  },
  {
   "cell_type": "markdown",
   "id": "d630d451-35a0-4904-bf64-b15a5c8a0d67",
   "metadata": {},
   "source": [
    "its not really meant to be used by the user its just for the  computer to load them up so yeh its pretty fast (thats what she said :)) and you cant read the picture"
   ]
  },
  {
   "cell_type": "code",
   "execution_count": 12,
   "id": "c299f8d2-dd4a-42c9-8606-98ccc865d110",
   "metadata": {},
   "outputs": [],
   "source": [
    "import time\n",
    "\n",
    "cap = cv2.VideoCapture('myrandomvideo.mp4')\n",
    "\n",
    "if cap.isOpened()== False:\n",
    "    print(\"ERROR_ FILE NOT FOUND OR CODEC NOT CORRECT\")\n",
    "\n",
    "while cap.isOpened():\n",
    "    ret, frame= cap.read()\n",
    "    \n",
    "    if ret == True:\n",
    "        \n",
    "        #to display image in the frame rate we shooted we have to let the thread stop for the time\n",
    "        time.sleep(1/60)\n",
    "        cv2.imshow('frame', frame)\n",
    "        \n",
    "        if cv2.waitKey(10) & 0xFF == ord('q'):\n",
    "            break\n",
    "    else:\n",
    "        break\n",
    "        \n",
    "cap.release()\n",
    "cv2.destroyAllWindows()\n",
    "                \n",
    "\n"
   ]
  },
  {
   "cell_type": "code",
   "execution_count": null,
   "id": "d8b311d3-a02f-4bd2-89bf-8647cf6305a5",
   "metadata": {},
   "outputs": [],
   "source": []
  }
 ],
 "metadata": {
  "kernelspec": {
   "display_name": "Python 3 (ipykernel)",
   "language": "python",
   "name": "python3"
  },
  "language_info": {
   "codemirror_mode": {
    "name": "ipython",
    "version": 3
   },
   "file_extension": ".py",
   "mimetype": "text/x-python",
   "name": "python",
   "nbconvert_exporter": "python",
   "pygments_lexer": "ipython3",
   "version": "3.9.7"
  },
  "widgets": {
   "application/vnd.jupyter.widget-state+json": {
    "state": {},
    "version_major": 2,
    "version_minor": 0
   }
  }
 },
 "nbformat": 4,
 "nbformat_minor": 5
}
